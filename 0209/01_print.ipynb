{
 "cells": [
  {
   "cell_type": "code",
   "execution_count": 34,
   "id": "aggregate-banner",
   "metadata": {},
   "outputs": [],
   "source": [
    "# 알아두면 유용한 단축키\n",
    "# ctrl + Enter => 프로그램 실행, 프로그램을 실행한 셀에 커서가 위치한다.\n",
    "# shift + Enter => 프로그램 실행, 프로그램을 실행한 다음 셀로 커서가 이동한다.\n",
    "# 셀 선택 상태에서 a를 누르면 선택된 셀 앞에 빈 셀이 삽입된다.\n",
    "# 셀 선택 상태에서 b를 누르면 선택된 셀 뒤에 빈 셀이 삽입된다.\n",
    "# 셀 선택 상태에서 dd를 누르면 선택된 셀이 삭제된다."
   ]
  },
  {
   "cell_type": "code",
   "execution_count": 36,
   "id": "worldwide-victor",
   "metadata": {},
   "outputs": [],
   "source": [
    "# '#'으로 시작하면 한 줄 주석 => 설명문 => 컴파일러나 인터프리터가 번역하지 않는다.\n",
    "# ''' 부터 ''' 사이에 코딩하면 범위 주석을 지정할 수 있다."
   ]
  },
  {
   "cell_type": "code",
   "execution_count": 43,
   "id": "worthy-password",
   "metadata": {},
   "outputs": [
    {
     "name": "stdout",
     "output_type": "stream",
     "text": [
      "Hello Python\n",
      "안녕 파이썬\n",
      "제2외국어를 배운 호랑이가 \"야옹\" 했습니다.\n",
      "제2외국어를 배운 고양이가 '어흥' 했습니다.\n"
     ]
    }
   ],
   "source": [
    "# print() 함수는 ()안의 데이터를 출력하고 줄을 바꿔준다.\n",
    "# 파이썬은 문자열 데이터를 표현할 때 데이터를 따옴표로 묶어준다. => 큰따옴표와 작은따옴표를 구분하지 않는다.\n",
    "print('Hello Python')\n",
    "print(\"안녕 파이썬\")\n",
    "print('제2외국어를 배운 호랑이가 \"야옹\" 했습니다.')\n",
    "print(\"제2외국어를 배운 고양이가 '어흥' 했습니다.\")"
   ]
  },
  {
   "cell_type": "code",
   "execution_count": 47,
   "id": "cheap-opening",
   "metadata": {},
   "outputs": [
    {
     "name": "stdout",
     "output_type": "stream",
     "text": [
      "Hello \n",
      "Python안녕 파이썬\n"
     ]
    }
   ],
   "source": [
    "# print() 함수로 출력 후 줄을 변경하지 않으려면 end 옵션을 지정하면 된다.\n",
    "# end 옵션은 print() 함수로 출력한 후 출력할 내용을 지정한다. => end 옵션을 생략하면 end = '\\n'이 기본값으로 사용된다.\n",
    "# \\n => new line => 줄 바꿈\n",
    "print('Hello \\nPython', end = '')\n",
    "print(\"안녕 파이썬\")"
   ]
  },
  {
   "cell_type": "code",
   "execution_count": 48,
   "id": "front-intro",
   "metadata": {},
   "outputs": [
    {
     "name": "stdout",
     "output_type": "stream",
     "text": [
      "Hello Python 안녕 파이썬\n"
     ]
    }
   ],
   "source": [
    "# print() 함수로 2개 이상의 데이터를 출력하려면 ','로 구분하면 된ㅌ다.\n",
    "\n",
    "print('Hello Python', \"안녕 파이썬\")"
   ]
  },
  {
   "cell_type": "code",
   "execution_count": null,
   "id": "racial-praise",
   "metadata": {},
   "outputs": [],
   "source": []
  },
  {
   "cell_type": "code",
   "execution_count": null,
   "id": "arabic-discussion",
   "metadata": {},
   "outputs": [],
   "source": []
  },
  {
   "cell_type": "code",
   "execution_count": null,
   "id": "liable-clear",
   "metadata": {},
   "outputs": [],
   "source": []
  },
  {
   "cell_type": "code",
   "execution_count": null,
   "id": "greek-finish",
   "metadata": {},
   "outputs": [],
   "source": []
  },
  {
   "cell_type": "code",
   "execution_count": null,
   "id": "complicated-count",
   "metadata": {},
   "outputs": [],
   "source": []
  }
 ],
 "metadata": {
  "kernelspec": {
   "display_name": "Python 3",
   "language": "python",
   "name": "python3"
  },
  "language_info": {
   "codemirror_mode": {
    "name": "ipython",
    "version": 3
   },
   "file_extension": ".py",
   "mimetype": "text/x-python",
   "name": "python",
   "nbconvert_exporter": "python",
   "pygments_lexer": "ipython3",
   "version": "3.6.8"
  }
 },
 "nbformat": 4,
 "nbformat_minor": 5
}
