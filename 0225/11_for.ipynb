{
 "cells": [
  {
   "cell_type": "markdown",
   "id": "needed-coaching",
   "metadata": {},
   "source": [
    "초기치, 최종치, 증가치에 따라 숫자 리스트를 만들어주는 range() 함수  \n",
    "range([초기치, ]최종치[, 증가치]) => [] 안의 내용은 생략할 수 있다.  \n",
    "초기치와 최종치는 생략할 수 있으며 초기치를 생략하면 0, 증가치를 생략하면 1이 기본값으로 사용된다.  \n",
    "range(0, 10, 1)과 range(10)은 의미가 같다."
   ]
  },
  {
   "cell_type": "code",
   "execution_count": 6,
   "id": "abstract-banana",
   "metadata": {},
   "outputs": [
    {
     "name": "stdout",
     "output_type": "stream",
     "text": [
      "[0, 1, 2, 3, 4, 5, 6, 7, 8, 9]\n",
      "[0, 1, 2, 3, 4, 5, 6, 7, 8, 9]\n"
     ]
    }
   ],
   "source": [
    "# range() 함수는 초기치 부터 최종치를 넘어가지 않을 때 까지 증가치 만큼씩 증가하는 숫자 리스트를 만든다.\n",
    "a = list(range(0, 10, 1))\n",
    "print(a)\n",
    "b = list(range(10))\n",
    "print(b)"
   ]
  },
  {
   "cell_type": "markdown",
   "id": "senior-round",
   "metadata": {},
   "source": [
    "range() 함수와 같이 사용하는 for 명령의 형식  \n",
    "for 변수 in range():  \n",
    "&nbsp;&nbsp;&nbsp;&nbsp;반복할 문장  \n",
    "&nbsp;&nbsp;&nbsp;&nbsp;...."
   ]
  },
  {
   "cell_type": "code",
   "execution_count": 8,
   "id": "ranging-outside",
   "metadata": {},
   "outputs": [
    {
     "name": "stdout",
     "output_type": "stream",
     "text": [
      "0\n",
      "1\n",
      "2\n",
      "3\n",
      "4\n"
     ]
    }
   ],
   "source": [
    "# for 명령은 range() 함수가 만들어주는 숫자 리스트의 값이 0번째 인덱스의 값 부터 마지막 인덱스의 값 까지 차례차례 변수에\n",
    "# 저장되며 반복한다.\n",
    "for i in range(5):\n",
    "    print(i)"
   ]
  },
  {
   "cell_type": "code",
   "execution_count": 13,
   "id": "acting-skiing",
   "metadata": {},
   "outputs": [
    {
     "name": "stdout",
     "output_type": "stream",
     "text": [
      "1 ~ 10의 합계 : 55\n"
     ]
    }
   ],
   "source": [
    "# 1 ~ 10의 합계\n",
    "total = 0 # 변수가 최초로 사용되기 전에 반드시 초기화가 되어야 한다.\n",
    "for i in range(1, 11):\n",
    "    # total = total + i\n",
    "    # 대입 연산자 => '='와 같이 사용하는 연산자 => +=, -=, *=, /+, //=, %= => 연산 우선 순위가 가장 늦다.\n",
    "    total += i\n",
    "print('1 ~ 10의 합계 : {}'.format(total))"
   ]
  },
  {
   "cell_type": "markdown",
   "id": "renewable-container",
   "metadata": {},
   "source": [
    "1개의 주사위를 10번 굴렸을 때 각각의 눈이 나타나는 개수를 센다. - 변수 사용"
   ]
  },
  {
   "cell_type": "code",
   "execution_count": 28,
   "id": "above-george",
   "metadata": {},
   "outputs": [
    {
     "name": "stdout",
     "output_type": "stream",
     "text": [
      " 1번째 주사위가 데구르르~~~~~ 굴러서 5이 나왔습니다.\n",
      " 2번째 주사위가 데구르르~~~~~ 굴러서 2이 나왔습니다.\n",
      " 3번째 주사위가 데구르르~~~~~ 굴러서 3이 나왔습니다.\n",
      " 4번째 주사위가 데구르르~~~~~ 굴러서 5이 나왔습니다.\n",
      " 5번째 주사위가 데구르르~~~~~ 굴러서 1이 나왔습니다.\n",
      " 6번째 주사위가 데구르르~~~~~ 굴러서 5이 나왔습니다.\n",
      " 7번째 주사위가 데구르르~~~~~ 굴러서 5이 나왔습니다.\n",
      " 8번째 주사위가 데구르르~~~~~ 굴러서 5이 나왔습니다.\n",
      " 9번째 주사위가 데구르르~~~~~ 굴러서 5이 나왔습니다.\n",
      "10번째 주사위가 데구르르~~~~~ 굴러서 5이 나왔습니다.\n",
      "1의 개수 : 1\n",
      "2의 개수 : 1\n",
      "3의 개수 : 1\n",
      "4의 개수 : 0\n",
      "5의 개수 : 7\n",
      "6의 개수 : 0\n"
     ]
    }
   ],
   "source": [
    "import random\n",
    "\n",
    "# 1 ~ 6의 눈의 개수를 기억할 변수를 선언한다.\n",
    "# 파이썬은 원칙적으로 한 줄에 한 문장을 코딩해야 하지만 한 줄에 여러 문장을 코딩하고 싶으면 문장과 문장을 ';'으로 구분해서\n",
    "# 입력하면 되고 한 문장이 너무 길어서 한 줄에 다 적을 수 없을 경우 줄이 바뀌는 부분에 '\\'을 입력하고 다음 줄에 코딩하면\n",
    "# 같은 문장으로 인식된다.\n",
    "num1 = 0; num2 = 0; num3 = 0; num4 = 0; num5 = 0; num6 = 0\n",
    "\n",
    "for i in range(10):\n",
    "    r = random.randrange(1, 7)\n",
    "    print('{0:2d}번째 주사위가 데구르르~~~~~ 굴러서 {1}이 나왔습니다.'.format(i + 1, r))\n",
    "    \n",
    "    # 주사위 눈의 개수를 센다.\n",
    "    if r == 1:\n",
    "        num1 += 1\n",
    "    elif r == 2:\n",
    "        num2 += 1\n",
    "    elif r == 3:\n",
    "        num3 += 1\n",
    "    elif r == 4:\n",
    "        num4 += 1\n",
    "    elif r == 5:\n",
    "        num5 += 1\n",
    "    else:\n",
    "        num6 += 1\n",
    "# ===== for i 끝\n",
    "\n",
    "print('1의 개수 : {}'.format(num1))\n",
    "print('2의 개수 : {}'.format(num2))\n",
    "print('3의 개수 : {}'.format(num3))\n",
    "print('4의 개수 : {}'.format(num4))\n",
    "print('5의 개수 : {}'.format(num5))\n",
    "print('6의 개수 : {}'.format(num6))"
   ]
  },
  {
   "cell_type": "markdown",
   "id": "subsequent-prime",
   "metadata": {},
   "source": [
    "1개의 주사위를 10번 굴렸을 때 각각의 눈이 나타나는 개수를 센다. - 리스트 사용"
   ]
  },
  {
   "cell_type": "code",
   "execution_count": 38,
   "id": "environmental-jason",
   "metadata": {},
   "outputs": [
    {
     "name": "stdout",
     "output_type": "stream",
     "text": [
      " 1번째 주사위가 데구르르~~~~~ 굴러서 4이 나왔습니다.\n",
      " 2번째 주사위가 데구르르~~~~~ 굴러서 3이 나왔습니다.\n",
      " 3번째 주사위가 데구르르~~~~~ 굴러서 4이 나왔습니다.\n",
      " 4번째 주사위가 데구르르~~~~~ 굴러서 5이 나왔습니다.\n",
      " 5번째 주사위가 데구르르~~~~~ 굴러서 1이 나왔습니다.\n",
      " 6번째 주사위가 데구르르~~~~~ 굴러서 2이 나왔습니다.\n",
      " 7번째 주사위가 데구르르~~~~~ 굴러서 1이 나왔습니다.\n",
      " 8번째 주사위가 데구르르~~~~~ 굴러서 1이 나왔습니다.\n",
      " 9번째 주사위가 데구르르~~~~~ 굴러서 4이 나왔습니다.\n",
      "10번째 주사위가 데구르르~~~~~ 굴러서 6이 나왔습니다.\n",
      "1의 개수 : 3\n",
      "2의 개수 : 1\n",
      "3의 개수 : 1\n",
      "4의 개수 : 3\n",
      "5의 개수 : 1\n",
      "6의 개수 : 1\n"
     ]
    }
   ],
   "source": [
    "import random\n",
    "\n",
    "# 1. 1 ~ 6 사이의 숫자를 기억할 0으로 초기화된 리스트를 선언한다.\n",
    "# count = [0, 0, 0, 0, 0, 0]\n",
    "# 2. 빈 리스트를 만들고 0을 6번 추가한다.\n",
    "count = [] # 빈 리스트\n",
    "for i in range(6):\n",
    "    count.append(0)\n",
    "# 3. 0이 6번 반복되는 리스트를 만든다.\n",
    "# count = [0 for i in range(6)]\n",
    "\n",
    "for i in range(10):\n",
    "    r = random.randrange(1, 7)\n",
    "    print('{0:2d}번째 주사위가 데구르르~~~~~ 굴러서 {1}이 나왔습니다.'.format(i + 1, r))\n",
    "    \n",
    "    if r == 1:\n",
    "        count[0] += 1\n",
    "    elif r == 2:\n",
    "        count[1] += 1\n",
    "    elif r == 3:\n",
    "        count[2] += 1\n",
    "    elif r == 4:\n",
    "        count[3] += 1\n",
    "    elif r == 5:\n",
    "        count[4] += 1\n",
    "    else:\n",
    "        count[5] += 1\n",
    "# ===== for i 끝\n",
    "\n",
    "print('1의 개수 : {}'.format(count[0]))\n",
    "print('2의 개수 : {}'.format(count[1]))\n",
    "print('3의 개수 : {}'.format(count[2]))\n",
    "print('4의 개수 : {}'.format(count[3]))\n",
    "print('5의 개수 : {}'.format(count[4]))\n",
    "print('6의 개수 : {}'.format(count[5]))"
   ]
  },
  {
   "cell_type": "code",
   "execution_count": 42,
   "id": "breeding-sandwich",
   "metadata": {},
   "outputs": [
    {
     "name": "stdout",
     "output_type": "stream",
     "text": [
      " 1번째 주사위가 데구르르~~~~~ 굴러서 4이 나왔습니다.\n",
      " 2번째 주사위가 데구르르~~~~~ 굴러서 3이 나왔습니다.\n",
      " 3번째 주사위가 데구르르~~~~~ 굴러서 1이 나왔습니다.\n",
      " 4번째 주사위가 데구르르~~~~~ 굴러서 4이 나왔습니다.\n",
      " 5번째 주사위가 데구르르~~~~~ 굴러서 4이 나왔습니다.\n",
      " 6번째 주사위가 데구르르~~~~~ 굴러서 1이 나왔습니다.\n",
      " 7번째 주사위가 데구르르~~~~~ 굴러서 2이 나왔습니다.\n",
      " 8번째 주사위가 데구르르~~~~~ 굴러서 4이 나왔습니다.\n",
      " 9번째 주사위가 데구르르~~~~~ 굴러서 3이 나왔습니다.\n",
      "10번째 주사위가 데구르르~~~~~ 굴러서 5이 나왔습니다.\n",
      "1의 개수 : 2\n",
      "2의 개수 : 1\n",
      "3의 개수 : 2\n",
      "4의 개수 : 4\n",
      "5의 개수 : 1\n",
      "6의 개수 : 0\n"
     ]
    }
   ],
   "source": [
    "import random\n",
    "\n",
    "count = []\n",
    "for i in range(6):\n",
    "    count.append(0)\n",
    "\n",
    "for i in range(10):\n",
    "    r = random.randrange(1, 7)\n",
    "    print('{0:2d}번째 주사위가 데구르르~~~~~ 굴러서 {1}이 나왔습니다.'.format(i + 1, r))\n",
    "    count[r - 1] += 1\n",
    "\n",
    "for i in range(6):\n",
    "    print('{}의 개수 : {}'.format(i + 1, count[i]))"
   ]
  },
  {
   "cell_type": "markdown",
   "id": "better-constitution",
   "metadata": {},
   "source": [
    "리스트와 for"
   ]
  },
  {
   "cell_type": "code",
   "execution_count": 47,
   "id": "military-cross",
   "metadata": {},
   "outputs": [
    {
     "name": "stdout",
     "output_type": "stream",
     "text": [
      "['Life', 'is', 'too', 'short']\n",
      "================================================================================\n",
      "Life\n",
      "is\n",
      "too\n",
      "short\n",
      "================================================================================\n",
      "Life\n",
      "is\n",
      "too\n",
      "short\n",
      "================================================================================\n",
      "Life\n",
      "is\n",
      "too\n",
      "short\n",
      "================================================================================\n",
      "is\n",
      "too\n"
     ]
    }
   ],
   "source": [
    "a = ['Life', 'is', 'too', 'short']\n",
    "print(a)\n",
    "print('=' * 80)\n",
    "\n",
    "# 리스트에 저장된 데이터의 개수가 변경되지 않는다면 리스트의 크기 만큼 반복시키면 된다.\n",
    "for i in range(4):\n",
    "    print(a[i])\n",
    "print('=' * 80)\n",
    "\n",
    "# 리스트가 저장된 데이터의 개수가 변한다면 len() 함수를 이용해서 리스트에 저장된 데이터의 개수를 얻어와서 반복시킨다.\n",
    "for i in range(len(a)):\n",
    "    print(a[i])\n",
    "print('=' * 80)\n",
    "\n",
    "# range() 함수 대신 데이터가 저장된 리스트를 사용하면 리스트에 저장된 데이터가 처음부터 차례대로 변수에 대입된다.\n",
    "for i in a:\n",
    "    print(i)\n",
    "print('=' * 80)\n",
    "\n",
    "# range() 함수 대신 리스트를 사용하면 슬라이싱 기능을 이용해서 리스트의 일부분만 반복시킬 수 있다.\n",
    "for i in a[1:3]:\n",
    "    print(i)"
   ]
  },
  {
   "cell_type": "markdown",
   "id": "robust-trance",
   "metadata": {},
   "source": [
    "튜플과 for"
   ]
  },
  {
   "cell_type": "code",
   "execution_count": 48,
   "id": "proprietary-swift",
   "metadata": {},
   "outputs": [
    {
     "name": "stdout",
     "output_type": "stream",
     "text": [
      "('Life', 'is', 'too', 'short')\n",
      "================================================================================\n",
      "Life\n",
      "is\n",
      "too\n",
      "short\n",
      "================================================================================\n",
      "Life\n",
      "is\n",
      "too\n",
      "short\n",
      "================================================================================\n",
      "Life\n",
      "is\n",
      "too\n",
      "short\n",
      "================================================================================\n",
      "is\n",
      "too\n"
     ]
    }
   ],
   "source": [
    "a = 'Life', 'is', 'too', 'short'\n",
    "print(a)\n",
    "print('=' * 80)\n",
    "\n",
    "for i in range(4):\n",
    "    print(a[i])\n",
    "print('=' * 80)\n",
    "\n",
    "for i in range(len(a)):\n",
    "    print(a[i])\n",
    "print('=' * 80)\n",
    "\n",
    "for i in a:\n",
    "    print(i)\n",
    "print('=' * 80)\n",
    "\n",
    "for i in a[1:3]:\n",
    "    print(i)"
   ]
  },
  {
   "cell_type": "markdown",
   "id": "foreign-trout",
   "metadata": {},
   "source": [
    "set과 for"
   ]
  },
  {
   "cell_type": "code",
   "execution_count": 53,
   "id": "disturbed-dayton",
   "metadata": {},
   "outputs": [
    {
     "name": "stdout",
     "output_type": "stream",
     "text": [
      "{'is', 'too', 'short', 'Life'}\n",
      "================================================================================\n",
      "is\n",
      "too\n",
      "short\n",
      "Life\n",
      "================================================================================\n"
     ]
    }
   ],
   "source": [
    "a = {'Life', 'is', 'too', 'short'}\n",
    "print(a)\n",
    "print('=' * 80)\n",
    "\n",
    "'''\n",
    "for i in range(4):\n",
    "    print(a[i]) # set은 인덱싱을 지원하지 않기 때문에 에러가 발생된다.\n",
    "print('=' * 80)\n",
    "\n",
    "for i in range(len(a)):\n",
    "    print(a[i]) # # set은 인덱싱을 지원하지 않기 때문에 에러가 발생된다.\n",
    "print('=' * 80)\n",
    "'''\n",
    "\n",
    "for i in a:\n",
    "    print(i)\n",
    "print('=' * 80)\n",
    "\n",
    "'''\n",
    "for i in a[1:3]: # set은 슬라이싱을 지원하지 않기 때문에 에러가 발생된다.\n",
    "    print(i)\n",
    "'''\n",
    "pass"
   ]
  },
  {
   "cell_type": "markdown",
   "id": "detected-antarctica",
   "metadata": {},
   "source": [
    "딕셔너리와 for"
   ]
  },
  {
   "cell_type": "code",
   "execution_count": 57,
   "id": "fitted-connecticut",
   "metadata": {},
   "outputs": [
    {
     "name": "stdout",
     "output_type": "stream",
     "text": [
      "{'apple': 1000, 'banana': 2000, 'melon': 10000, 'mango': 5000}\n",
      "dict_keys(['apple', 'banana', 'melon', 'mango'])\n",
      "dict_values([1000, 2000, 10000, 5000])\n",
      "dict_items([('apple', 1000), ('banana', 2000), ('melon', 10000), ('mango', 5000)])\n"
     ]
    }
   ],
   "source": [
    "a = {'apple': 1000, 'banana': 2000, 'melon': 10000, 'mango': 5000}\n",
    "print(a)\n",
    "print(a.keys())\n",
    "print(a.values())\n",
    "print(a.items())"
   ]
  },
  {
   "cell_type": "code",
   "execution_count": 60,
   "id": "circular-resident",
   "metadata": {},
   "outputs": [
    {
     "name": "stdout",
     "output_type": "stream",
     "text": [
      "apple\n",
      "banana\n",
      "melon\n",
      "mango\n",
      "================================================================================\n",
      "apple\n",
      "banana\n",
      "melon\n",
      "mango\n"
     ]
    }
   ],
   "source": [
    "for key in a.keys():\n",
    "    print(key)\n",
    "print('=' * 80)\n",
    "# 딕셔너리 이름만 쓰면 딕셔너리이름.keys()를 실행한 것과 같은 결과를 얻는다.\n",
    "for key in a:\n",
    "    print(key)"
   ]
  },
  {
   "cell_type": "code",
   "execution_count": 63,
   "id": "lovely-marble",
   "metadata": {},
   "outputs": [
    {
     "name": "stdout",
     "output_type": "stream",
     "text": [
      "1000\n",
      "2000\n",
      "10000\n",
      "5000\n",
      "================================================================================\n",
      "1000\n",
      "2000\n",
      "10000\n",
      "5000\n",
      "================================================================================\n",
      "1000\n",
      "2000\n",
      "10000\n",
      "5000\n"
     ]
    }
   ],
   "source": [
    "for value in a.values():\n",
    "    print(value)\n",
    "print('=' * 80)\n",
    "for key in a.keys():\n",
    "    print(a[key])\n",
    "print('=' * 80)\n",
    "for key in a.keys():\n",
    "    print(a.get(key))"
   ]
  },
  {
   "cell_type": "code",
   "execution_count": 70,
   "id": "noted-butter",
   "metadata": {},
   "outputs": [
    {
     "name": "stdout",
     "output_type": "stream",
     "text": [
      "('apple', 1000)\n",
      "('banana', 2000)\n",
      "('melon', 10000)\n",
      "('mango', 5000)\n",
      "================================================================================\n",
      "apple\n",
      "banana\n",
      "melon\n",
      "mango\n",
      "================================================================================\n",
      "1000\n",
      "2000\n",
      "10000\n",
      "5000\n",
      "================================================================================\n",
      "apple 는(은)  1,000원 입니다.\n",
      "banana는(은)  2,000원 입니다.\n",
      "melon 는(은) 10,000원 입니다.\n",
      "mango 는(은)  5,000원 입니다.\n",
      "================================================================================\n"
     ]
    }
   ],
   "source": [
    "for item in a.items():\n",
    "    print(item)\n",
    "print('=' * 80)\n",
    "for item in a.items():\n",
    "    print(item[0])\n",
    "print('=' * 80)\n",
    "for item in a.items():\n",
    "    print(item[1])\n",
    "print('=' * 80)\n",
    "for key, value in a.items():\n",
    "    print('{0:6s}는(은) {1:6,d}원 입니다.'.format(key, value))\n",
    "print('=' * 80)"
   ]
  },
  {
   "cell_type": "code",
   "execution_count": null,
   "id": "terminal-audience",
   "metadata": {},
   "outputs": [],
   "source": []
  },
  {
   "cell_type": "code",
   "execution_count": null,
   "id": "bacterial-catering",
   "metadata": {},
   "outputs": [],
   "source": []
  },
  {
   "cell_type": "code",
   "execution_count": null,
   "id": "decreased-oriental",
   "metadata": {},
   "outputs": [],
   "source": []
  },
  {
   "cell_type": "code",
   "execution_count": null,
   "id": "accurate-brake",
   "metadata": {},
   "outputs": [],
   "source": []
  },
  {
   "cell_type": "code",
   "execution_count": null,
   "id": "incident-macedonia",
   "metadata": {},
   "outputs": [],
   "source": []
  },
  {
   "cell_type": "code",
   "execution_count": null,
   "id": "major-school",
   "metadata": {},
   "outputs": [],
   "source": []
  }
 ],
 "metadata": {
  "kernelspec": {
   "display_name": "Python 3",
   "language": "python",
   "name": "python3"
  },
  "language_info": {
   "codemirror_mode": {
    "name": "ipython",
    "version": 3
   },
   "file_extension": ".py",
   "mimetype": "text/x-python",
   "name": "python",
   "nbconvert_exporter": "python",
   "pygments_lexer": "ipython3",
   "version": "3.6.8"
  }
 },
 "nbformat": 4,
 "nbformat_minor": 5
}
