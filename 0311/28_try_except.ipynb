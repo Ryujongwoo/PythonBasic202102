{
 "cells": [
  {
   "cell_type": "markdown",
   "id": "flexible-buddy",
   "metadata": {},
   "source": [
    "오류 처리  \n",
    "프로그램을 실행할 때 잘못 동작되는 것을 방지하기 위해서 오류가 발생된다. => 오류가 발생되면 프로그램이 멈춘다.  \n",
    "try ~ except를 사용하면 오류가 발생되었을 때 별도의 처리를 하거나 오류를 무시하고 프로그램을 실행할 수 있다."
   ]
  },
  {
   "cell_type": "markdown",
   "id": "baking-international",
   "metadata": {},
   "source": [
    "오류가 발생될 것으로 예상되는 문장을 try 블록에 코딩하고 try 블록에 코딩된 내용을 실행하다가 오류가 발생되면 더 이상 try 블록의 내용을 실행하지 앟고 해당 오류의 except 블록에 코딩된 내용을 실행한다."
   ]
  },
  {
   "cell_type": "markdown",
   "id": "aquatic-wichita",
   "metadata": {},
   "source": [
    "try: # 필수  \n",
    "&nbsp;&nbsp;&nbsp;&nbsp;오류가 발생될 것으로 예상되는 문장  \n",
    "&nbsp;&nbsp;&nbsp;&nbsp;...  \n",
    "except [오류 이름 [as 변수 이름]]: # 필수 => [] 안의 오류 이름과 변수 이름은 생략할 수 있다.  \n",
    "&nbsp;&nbsp;&nbsp;&nbsp;오류가 발생되면 실행할 문장  \n",
    "&nbsp;&nbsp;&nbsp;&nbsp;...  \n",
    "finally: # 선택 => 필요하면 사용한다.  \n",
    "&nbsp;&nbsp;&nbsp;&nbsp;오류 발생 여부와 상관없이 무조건 실행할 문장이 있다면 finally 블록에 코딩한다.  \n",
    "&nbsp;&nbsp;&nbsp;&nbsp;..."
   ]
  },
  {
   "cell_type": "code",
   "execution_count": 8,
   "id": "common-position",
   "metadata": {},
   "outputs": [
    {
     "name": "stdout",
     "output_type": "stream",
     "text": [
      "4.0\n",
      "나눗셈은 0으로 할 수 없습니다.\n",
      "실행완료\n"
     ]
    }
   ],
   "source": [
    "try:\n",
    "    print(4 / 1) # 이 문장은 정상적으로 실행된다.\n",
    "    print(4 / 0) # ZeroDivisionError가 발생된다.\n",
    "    print(4 / 4) # 오류가 발생되면 이 문장은 실행되지 않는다.\n",
    "except:\n",
    "    # 오류가 발생되면 아무런 일도 하지 않고 오류를 무시하려면 아래와 같이 pass를 사용하면 된다.\n",
    "    # pass\n",
    "    print('나눗셈은 0으로 할 수 없습니다.') # 오류 메시지\n",
    "print('실행완료')"
   ]
  },
  {
   "cell_type": "code",
   "execution_count": 5,
   "id": "marine-dakota",
   "metadata": {},
   "outputs": [
    {
     "name": "stdout",
     "output_type": "stream",
     "text": [
      "3\n",
      "리스트의 인덱스 지정이 올바르지 않습니다.\n",
      "실행완료\n"
     ]
    }
   ],
   "source": [
    "data = [1, 2, 3]\n",
    "try:\n",
    "    print(data[2])  # 이 문장은 정상적으로 실행된다.\n",
    "    print(data[3])  # IndexError가 발생된다.\n",
    "    print(data[-1]) # 오류가 발생되면 이 문장은 실행되지 않는다.\n",
    "except:\n",
    "    # 오류가 발생되면 아무런 일도 하지 않고 오류를 무시하려면 아래와 같이 pass를 사용하면 된다.\n",
    "    # pass\n",
    "    print('리스트의 인덱스 지정이 올바르지 않습니다.') # 오류 메시지\n",
    "print('실행완료')"
   ]
  },
  {
   "cell_type": "code",
   "execution_count": 25,
   "id": "israeli-rehabilitation",
   "metadata": {},
   "outputs": [
    {
     "name": "stdout",
     "output_type": "stream",
     "text": [
      "아쉽지만 오늘이 종강이네요\n",
      "오류가 발생하던 발생하지 않던 무조건 실행할 문장이 있다면 이곳에 코딩한다.\n",
      "실행완료\n"
     ]
    }
   ],
   "source": [
    "data = [1, 2, 3]\n",
    "string = '아쉽지만 오늘이 종강이네요'\n",
    "try:\n",
    "    # print(4 / 0) # ZeroDivisionError\n",
    "    # print(data[3]) # IndexError\n",
    "    print(string)\n",
    "    # print('%d' % string) # TypeError\n",
    "# except 뒤에 오류 이름을 쓰면 지정된 오류가 발생될 때 에만 오류를 처리한다.\n",
    "except ZeroDivisionError: # ZeroDivisionError가 발생되면 실행된다.\n",
    "    print('나눗셈은 0으로 할 수 없습니다.')\n",
    "# except 뒤에 오류 이름을 쓰과 as 다음에 변수를 지정하면 파이썬이 출력하는 에러 메시지가 변수에 저장된다.\n",
    "except IndexError as err: # IndexError가 발생되면 실행된다.\n",
    "    print('리스트의 인덱스 지정이 올바르지 않습니다.')\n",
    "    print(err)\n",
    "# ZeroDivisionError, IndexError를 제외한 나머지 오류가 발생되면 이곳에 코딩한 문장이 실행된다.\n",
    "# except만 쓰고 뒤에 오류 이름을 쓰지 않으면 모든 종류의 오류를 처리한다.\n",
    "# except만 사용하는 경우는 반드시 맨 마지막에 코딩해야 한다.\n",
    "except:\n",
    "    print('데이터 타입이 올바르지 않습니다.')\n",
    "finally:\n",
    "    print('오류가 발생하던 발생하지 않던 무조건 실행할 문장이 있다면 이곳에 코딩한다.')\n",
    "print('실행완료')"
   ]
  },
  {
   "cell_type": "code",
   "execution_count": 29,
   "id": "prostate-carrier",
   "metadata": {},
   "outputs": [
    {
     "name": "stdout",
     "output_type": "stream",
     "text": [
      "['010', '2', '10', '111', '50']\n",
      "['010', '10', '111', '2', '50']\n",
      "['50', '2', '111', '10', '010']\n"
     ]
    }
   ],
   "source": [
    "data = ['010', '2', '10', '111', '50']\n",
    "print(data)\n",
    "data.sort()\n",
    "print(data)\n",
    "data.sort(reverse=True)\n",
    "print(data)"
   ]
  },
  {
   "cell_type": "code",
   "execution_count": 31,
   "id": "manufactured-opportunity",
   "metadata": {},
   "outputs": [
    {
     "name": "stdout",
     "output_type": "stream",
     "text": [
      "[101, 2, 10, 111, 50]\n",
      "[2, 10, 50, 101, 111]\n",
      "[111, 101, 50, 10, 2]\n"
     ]
    }
   ],
   "source": [
    "data = [101, 2, 10, 111, 50]\n",
    "print(data)\n",
    "data.sort()\n",
    "print(data)\n",
    "data.sort(reverse=True)\n",
    "print(data)"
   ]
  },
  {
   "cell_type": "code",
   "execution_count": 32,
   "id": "polish-letters",
   "metadata": {},
   "outputs": [
    {
     "name": "stdout",
     "output_type": "stream",
     "text": [
      "['010', 2, '10', 111, '50']\n"
     ]
    },
    {
     "ename": "TypeError",
     "evalue": "'<' not supported between instances of 'int' and 'str'",
     "output_type": "error",
     "traceback": [
      "\u001b[1;31m---------------------------------------------------------------------------\u001b[0m",
      "\u001b[1;31mTypeError\u001b[0m                                 Traceback (most recent call last)",
      "\u001b[1;32m<ipython-input-32-cc4822e8a9d8>\u001b[0m in \u001b[0;36m<module>\u001b[1;34m\u001b[0m\n\u001b[0;32m      1\u001b[0m \u001b[0mdata\u001b[0m \u001b[1;33m=\u001b[0m \u001b[1;33m[\u001b[0m\u001b[1;34m'010'\u001b[0m\u001b[1;33m,\u001b[0m \u001b[1;36m2\u001b[0m\u001b[1;33m,\u001b[0m \u001b[1;34m'10'\u001b[0m\u001b[1;33m,\u001b[0m \u001b[1;36m111\u001b[0m\u001b[1;33m,\u001b[0m \u001b[1;34m'50'\u001b[0m\u001b[1;33m]\u001b[0m\u001b[1;33m\u001b[0m\u001b[1;33m\u001b[0m\u001b[0m\n\u001b[0;32m      2\u001b[0m \u001b[0mprint\u001b[0m\u001b[1;33m(\u001b[0m\u001b[0mdata\u001b[0m\u001b[1;33m)\u001b[0m\u001b[1;33m\u001b[0m\u001b[1;33m\u001b[0m\u001b[0m\n\u001b[1;32m----> 3\u001b[1;33m \u001b[0mdata\u001b[0m\u001b[1;33m.\u001b[0m\u001b[0msort\u001b[0m\u001b[1;33m(\u001b[0m\u001b[1;33m)\u001b[0m\u001b[1;33m\u001b[0m\u001b[1;33m\u001b[0m\u001b[0m\n\u001b[0m\u001b[0;32m      4\u001b[0m \u001b[0mprint\u001b[0m\u001b[1;33m(\u001b[0m\u001b[0mdata\u001b[0m\u001b[1;33m)\u001b[0m\u001b[1;33m\u001b[0m\u001b[1;33m\u001b[0m\u001b[0m\n\u001b[0;32m      5\u001b[0m \u001b[0mdata\u001b[0m\u001b[1;33m.\u001b[0m\u001b[0msort\u001b[0m\u001b[1;33m(\u001b[0m\u001b[0mreverse\u001b[0m\u001b[1;33m=\u001b[0m\u001b[1;32mTrue\u001b[0m\u001b[1;33m)\u001b[0m\u001b[1;33m\u001b[0m\u001b[1;33m\u001b[0m\u001b[0m\n",
      "\u001b[1;31mTypeError\u001b[0m: '<' not supported between instances of 'int' and 'str'"
     ]
    }
   ],
   "source": [
    "data = ['010', 2, '10', 111, '50']\n",
    "print(data)\n",
    "data.sort()\n",
    "print(data)\n",
    "data.sort(reverse=True)\n",
    "print(data)"
   ]
  },
  {
   "cell_type": "code",
   "execution_count": 34,
   "id": "posted-mambo",
   "metadata": {},
   "outputs": [
    {
     "name": "stdout",
     "output_type": "stream",
     "text": [
      "정렬할 데이터를 입력하세요(999가 입력되면 정렬을 시작합니다.) : bbb\n",
      "정렬할 데이터를 입력하세요(999가 입력되면 정렬을 시작합니다.) : 888\n",
      "정렬할 데이터를 입력하세요(999가 입력되면 정렬을 시작합니다.) : sss\n",
      "정렬할 데이터를 입력하세요(999가 입력되면 정렬을 시작합니다.) : 111\n",
      "정렬할 데이터를 입력하세요(999가 입력되면 정렬을 시작합니다.) : 555\n",
      "정렬할 데이터를 입력하세요(999가 입력되면 정렬을 시작합니다.) : 999\n",
      "[111, 555, 888, 'bbb', 'sss']\n"
     ]
    }
   ],
   "source": [
    "# 숫자와 문자가 섞여서 입력될 때 오름차순으로 정렬해서 출력하기, '999'가 입력되면 정렬을 시작한다.\n",
    "number = [] # 입력되는 숫자가 저장될 빈 리스트\n",
    "alpha = []  # 입력되는 문자가 저장될 빈 리스트\n",
    "while True:\n",
    "    var = input('정렬할 데이터를 입력하세요(999가 입력되면 정렬을 시작합니다.) : ')\n",
    "    if var == '999':\n",
    "        break\n",
    "    # 입력받은 데이터가 0 ~ 9 사이의 문자로 구성된 경우와 그렇치 않은 경우를 각각 number, alpha 리스트에 저장한다.\n",
    "    try:\n",
    "        number.append(int(var))\n",
    "    except:\n",
    "        alpha.append(var)\n",
    "        \n",
    "number.sort()\n",
    "alpha.sort()\n",
    "print(number + alpha)"
   ]
  },
  {
   "cell_type": "code",
   "execution_count": 33,
   "id": "thick-tobacco",
   "metadata": {},
   "outputs": [
    {
     "ename": "ValueError",
     "evalue": "invalid literal for int() with base 10: 'asd'",
     "output_type": "error",
     "traceback": [
      "\u001b[1;31m---------------------------------------------------------------------------\u001b[0m",
      "\u001b[1;31mValueError\u001b[0m                                Traceback (most recent call last)",
      "\u001b[1;32m<ipython-input-33-1506e68dd23d>\u001b[0m in \u001b[0;36m<module>\u001b[1;34m\u001b[0m\n\u001b[1;32m----> 1\u001b[1;33m \u001b[0mint\u001b[0m\u001b[1;33m(\u001b[0m\u001b[1;34m'asd'\u001b[0m\u001b[1;33m)\u001b[0m\u001b[1;33m\u001b[0m\u001b[1;33m\u001b[0m\u001b[0m\n\u001b[0m",
      "\u001b[1;31mValueError\u001b[0m: invalid literal for int() with base 10: 'asd'"
     ]
    }
   ],
   "source": []
  },
  {
   "cell_type": "code",
   "execution_count": null,
   "id": "twenty-stick",
   "metadata": {},
   "outputs": [],
   "source": []
  },
  {
   "cell_type": "code",
   "execution_count": null,
   "id": "geographic-packet",
   "metadata": {},
   "outputs": [],
   "source": []
  },
  {
   "cell_type": "code",
   "execution_count": null,
   "id": "close-possible",
   "metadata": {},
   "outputs": [],
   "source": []
  },
  {
   "cell_type": "code",
   "execution_count": null,
   "id": "usual-vietnamese",
   "metadata": {},
   "outputs": [],
   "source": []
  },
  {
   "cell_type": "code",
   "execution_count": null,
   "id": "asian-designation",
   "metadata": {},
   "outputs": [],
   "source": []
  },
  {
   "cell_type": "code",
   "execution_count": null,
   "id": "original-bundle",
   "metadata": {},
   "outputs": [],
   "source": []
  },
  {
   "cell_type": "code",
   "execution_count": null,
   "id": "better-experiment",
   "metadata": {},
   "outputs": [],
   "source": []
  },
  {
   "cell_type": "code",
   "execution_count": null,
   "id": "floral-zoning",
   "metadata": {},
   "outputs": [],
   "source": []
  },
  {
   "cell_type": "code",
   "execution_count": null,
   "id": "moderate-spanking",
   "metadata": {},
   "outputs": [],
   "source": []
  }
 ],
 "metadata": {
  "kernelspec": {
   "display_name": "Python 3",
   "language": "python",
   "name": "python3"
  },
  "language_info": {
   "codemirror_mode": {
    "name": "ipython",
    "version": 3
   },
   "file_extension": ".py",
   "mimetype": "text/x-python",
   "name": "python",
   "nbconvert_exporter": "python",
   "pygments_lexer": "ipython3",
   "version": "3.6.8"
  }
 },
 "nbformat": 4,
 "nbformat_minor": 5
}
