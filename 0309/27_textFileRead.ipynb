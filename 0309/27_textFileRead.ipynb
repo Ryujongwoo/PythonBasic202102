{
 "cells": [
  {
   "cell_type": "code",
   "execution_count": 8,
   "id": "swiss-vintage",
   "metadata": {},
   "outputs": [
    {
     "name": "stdout",
     "output_type": "stream",
     "text": [
      "data.txt 파일에서 읽기 완료\n",
      "['jklsfdjklfsdjklfds', 'sfdjlkjklfsdklj', 'wejiofwejrkjklfsd', 'wejlkjkfwejlkkaf', 'ljkfwqejklfqwjklkljqf']\n"
     ]
    }
   ],
   "source": [
    "file = open('./save/data.txt', 'r')\n",
    "# readLine() 메소드로 텍스트 파일의 내용을 한 줄씩 읽어들인다.\n",
    "lines = []\n",
    "# 텍스트 파일에 저장된 데이터가 몇 줄인지 알 수 없으므로 무한 루프를 돌려서 읽는다.\n",
    "while True:\n",
    "    line = file.readline()\n",
    "    # 텍스트 파일에서 읽어들인 데이터가 없을 경우 무한 루프를 탈출시킨다.\n",
    "    if not line: # readLine() 메소드로 읽어들인 데이터가 없는가?\n",
    "        break\n",
    "    # 읽어들인 데이터가 빈 줄(읽어들인 데이터가 모두 공백)이면 읽어들인 내용을 리스트에 저장하지 않는다.\n",
    "    if len(line.strip()) != 0:\n",
    "        # print(line, end = '')\n",
    "        # print(line.strip())\n",
    "        lines.append(line.strip())\n",
    "file.close()\n",
    "print('data.txt 파일에서 읽기 완료')\n",
    "print(lines)"
   ]
  },
  {
   "cell_type": "code",
   "execution_count": 10,
   "id": "physical-white",
   "metadata": {},
   "outputs": [
    {
     "name": "stdout",
     "output_type": "stream",
     "text": [
      "<class 'list'>\n",
      "data.txt 파일에서 읽기 완료\n",
      "['jklsfdjklfsdjklfds\\n', 'sfdjlkjklfsdklj\\n', 'wejiofwejrkjklfsd\\n', 'wejlkjkfwejlkkaf\\n', 'ljkfwqejklfqwjklkljqf\\n']\n"
     ]
    }
   ],
   "source": [
    "file = open('./save/data.txt', 'r')\n",
    "# readlines() 메소드는 텍스트 파일의 전체 데이터를 한꺼번에 읽어서 리스트로 얻어온다.\n",
    "lines = file.readlines()\n",
    "print(type(lines))\n",
    "file.close()\n",
    "print('data.txt 파일에서 읽기 완료')\n",
    "print(lines)"
   ]
  },
  {
   "cell_type": "code",
   "execution_count": null,
   "id": "quiet-adventure",
   "metadata": {},
   "outputs": [],
   "source": []
  },
  {
   "cell_type": "code",
   "execution_count": null,
   "id": "phantom-statistics",
   "metadata": {},
   "outputs": [],
   "source": []
  },
  {
   "cell_type": "code",
   "execution_count": null,
   "id": "possible-detector",
   "metadata": {},
   "outputs": [],
   "source": []
  },
  {
   "cell_type": "code",
   "execution_count": null,
   "id": "electoral-comparative",
   "metadata": {},
   "outputs": [],
   "source": []
  }
 ],
 "metadata": {
  "kernelspec": {
   "display_name": "Python 3",
   "language": "python",
   "name": "python3"
  },
  "language_info": {
   "codemirror_mode": {
    "name": "ipython",
    "version": 3
   },
   "file_extension": ".py",
   "mimetype": "text/x-python",
   "name": "python",
   "nbconvert_exporter": "python",
   "pygments_lexer": "ipython3",
   "version": "3.6.8"
  }
 },
 "nbformat": 4,
 "nbformat_minor": 5
}
