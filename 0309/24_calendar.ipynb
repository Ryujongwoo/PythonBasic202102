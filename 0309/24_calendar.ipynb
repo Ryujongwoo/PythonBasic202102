{
 "cells": [
  {
   "cell_type": "markdown",
   "id": "rocky-polymer",
   "metadata": {},
   "source": [
    "여러 프로젝트에서 같은 모듈을 사용해야 한다면 프로젝트 마다 같은 모듈을 복사해 넣으면 유지 보수가 불편해 진다.  \n",
    "import 할 모듈을 프로젝트와 전혀 관계없는 폴더를 만들어 저장하고 sys 모듈을 import 하고 sys.path에 append() 메소드로 모듈이 위치한 경로를 추가하면 된다."
   ]
  },
  {
   "cell_type": "code",
   "execution_count": 1,
   "id": "interim-lightning",
   "metadata": {},
   "outputs": [],
   "source": [
    "import sys\n",
    "sys.path.append('D:/userModule') # '\\' 때문에 에러가 발생되면 '\\\\' 또는 '/'로 수정해서 사용한다.\n",
    "import calM as cm"
   ]
  },
  {
   "cell_type": "code",
   "execution_count": 2,
   "id": "working-convenience",
   "metadata": {},
   "outputs": [
    {
     "name": "stdout",
     "output_type": "stream",
     "text": [
      "달력을 출력할 년, 월을 입력하세요 : 2021 8\n",
      "============================\n",
      "         2021년 8월\n",
      "============================\n",
      " 일  월  화  수  목  금  토 \n",
      "============================\n",
      "  1   2   3   4   5   6   7 \n",
      "  8   9  10  11  12  13  14 \n",
      " 15  16  17  18  19  20  21 \n",
      " 22  23  24  25  26  27  28 \n",
      " 29  30  31 \n",
      "============================\n"
     ]
    }
   ],
   "source": [
    "year, month = map(int, input('달력을 출력할 년, 월을 입력하세요 : ').split())\n",
    "print('=' * 28)\n",
    "print('         {0:4d}년{1:2d}월'.format(year, month))\n",
    "print('=' * 28)\n",
    "print(' 일  월  화  수  목  금  토 ')\n",
    "print('=' * 28)\n",
    "\n",
    "for i in range(cm.weekDay(year, month, 1)):\n",
    "    print('    ', end = '')\n",
    "\n",
    "for i in range(1, cm.lastDay(year, month) + 1):\n",
    "    print(' {0:2d} '.format(i), end = '')\n",
    "    if cm.weekDay(year, month, i) == 6 and i != cm.lastDay(year, month):\n",
    "        print()\n",
    "print('\\n' + '=' * 28)"
   ]
  },
  {
   "cell_type": "code",
   "execution_count": null,
   "id": "tropical-section",
   "metadata": {},
   "outputs": [],
   "source": []
  },
  {
   "cell_type": "code",
   "execution_count": null,
   "id": "foreign-performer",
   "metadata": {},
   "outputs": [],
   "source": []
  },
  {
   "cell_type": "code",
   "execution_count": null,
   "id": "remarkable-miller",
   "metadata": {},
   "outputs": [],
   "source": []
  },
  {
   "cell_type": "code",
   "execution_count": null,
   "id": "variable-polyester",
   "metadata": {},
   "outputs": [],
   "source": []
  },
  {
   "cell_type": "code",
   "execution_count": null,
   "id": "destroyed-agenda",
   "metadata": {},
   "outputs": [],
   "source": []
  },
  {
   "cell_type": "code",
   "execution_count": null,
   "id": "parallel-toilet",
   "metadata": {},
   "outputs": [],
   "source": []
  }
 ],
 "metadata": {
  "kernelspec": {
   "display_name": "Python 3",
   "language": "python",
   "name": "python3"
  },
  "language_info": {
   "codemirror_mode": {
    "name": "ipython",
    "version": 3
   },
   "file_extension": ".py",
   "mimetype": "text/x-python",
   "name": "python",
   "nbconvert_exporter": "python",
   "pygments_lexer": "ipython3",
   "version": "3.6.8"
  }
 },
 "nbformat": 4,
 "nbformat_minor": 5
}
