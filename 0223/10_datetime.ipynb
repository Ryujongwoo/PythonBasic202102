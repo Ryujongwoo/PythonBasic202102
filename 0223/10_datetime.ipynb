{
 "cells": [
  {
   "cell_type": "markdown",
   "id": "herbal-particle",
   "metadata": {},
   "source": [
    "컴퓨터 시스템의 날짜와 시간을 얻어온다.  \n",
    "datetime 패키지의 datetime 클래스 now() 메소드로 컴퓨터 시스템의 날짜와 시간을 얻어올 수 있다."
   ]
  },
  {
   "cell_type": "code",
   "execution_count": 1,
   "id": "colored-vegetarian",
   "metadata": {},
   "outputs": [
    {
     "name": "stdout",
     "output_type": "stream",
     "text": [
      "2021-02-23 20:24:17.764514\n"
     ]
    }
   ],
   "source": [
    "# datetime 패키지 전체를 import 시킨다.\n",
    "import datetime\n",
    "now = datetime.datetime.now()\n",
    "print(now)"
   ]
  },
  {
   "cell_type": "code",
   "execution_count": 2,
   "id": "protected-smooth",
   "metadata": {},
   "outputs": [
    {
     "name": "stdout",
     "output_type": "stream",
     "text": [
      "2021-02-23 20:24:18.033507\n"
     ]
    }
   ],
   "source": [
    "# datetime 패키지의 datetime 클래스만 import 시킨다.\n",
    "from datetime import datetime\n",
    "now2 = datetime.now()\n",
    "print(now2)"
   ]
  },
  {
   "cell_type": "code",
   "execution_count": 3,
   "id": "threatened-orange",
   "metadata": {},
   "outputs": [
    {
     "name": "stdout",
     "output_type": "stream",
     "text": [
      "2021-02-23 20:24:18.525492\n"
     ]
    }
   ],
   "source": [
    "# datetime 패키지의 datetime 클래스만 import 시키고 dt라는 별명을 지정한다.\n",
    "from datetime import datetime as dt\n",
    "now3 = dt.now()\n",
    "print(now3)"
   ]
  },
  {
   "cell_type": "code",
   "execution_count": 14,
   "id": "numerous-institution",
   "metadata": {},
   "outputs": [
    {
     "name": "stdout",
     "output_type": "stream",
     "text": [
      "년 : 2021\n",
      "월 : 2\n",
      "일 : 23\n",
      "시 : 20\n",
      "분 : 24\n",
      "초 : 18\n",
      "마이크로초 : 525492\n",
      "밀리초 : 525\n",
      "요일 : 1\n"
     ]
    }
   ],
   "source": [
    "print('년 : {}'.format(now3.year))\n",
    "print('월 : {}'.format(now3.month))\n",
    "print('일 : {}'.format(now3.day))\n",
    "print('시 : {}'.format(now3.hour))\n",
    "print('분 : {}'.format(now3.minute))\n",
    "print('초 : {}'.format(now3.second))\n",
    "print('마이크로초 : {}'.format(now3.microsecond))\n",
    "print('밀리초 : {}'.format(now3.microsecond // 1000))\n",
    "# weekday() 메소드는 요일을 숫자로 얻어온다. => 월요일(0), 화요일(1), 수요일(2), 목요일(3), 금요일(4), 토요일(5), 일요일(6)\n",
    "print('요일 : {}'.format(now3.weekday()))"
   ]
  },
  {
   "cell_type": "code",
   "execution_count": null,
   "id": "confident-responsibility",
   "metadata": {},
   "outputs": [],
   "source": []
  },
  {
   "cell_type": "code",
   "execution_count": null,
   "id": "about-poetry",
   "metadata": {},
   "outputs": [],
   "source": []
  },
  {
   "cell_type": "code",
   "execution_count": null,
   "id": "younger-series",
   "metadata": {},
   "outputs": [],
   "source": []
  },
  {
   "cell_type": "code",
   "execution_count": null,
   "id": "unusual-darkness",
   "metadata": {},
   "outputs": [],
   "source": []
  },
  {
   "cell_type": "code",
   "execution_count": null,
   "id": "amino-trouble",
   "metadata": {},
   "outputs": [],
   "source": []
  },
  {
   "cell_type": "code",
   "execution_count": null,
   "id": "young-blake",
   "metadata": {},
   "outputs": [],
   "source": []
  },
  {
   "cell_type": "code",
   "execution_count": null,
   "id": "mental-permission",
   "metadata": {},
   "outputs": [],
   "source": []
  }
 ],
 "metadata": {
  "kernelspec": {
   "display_name": "Python 3",
   "language": "python",
   "name": "python3"
  },
  "language_info": {
   "codemirror_mode": {
    "name": "ipython",
    "version": 3
   },
   "file_extension": ".py",
   "mimetype": "text/x-python",
   "name": "python",
   "nbconvert_exporter": "python",
   "pygments_lexer": "ipython3",
   "version": "3.6.8"
  }
 },
 "nbformat": 4,
 "nbformat_minor": 5
}
