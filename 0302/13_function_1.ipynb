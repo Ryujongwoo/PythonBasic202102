{
 "cells": [
  {
   "cell_type": "markdown",
   "id": "prescribed-valuable",
   "metadata": {},
   "source": [
    "함수의 구조  \n",
    "def 함수이름([인수, ...]): # 함수의 인수는 필요없으면 생략할 수 있고 필요하면 필요한 만큼 사용할 수 있다.  \n",
    "&nbsp;&nbsp;&nbsp;&nbsp;함수가 실행할 문장  \n",
    "&nbsp;&nbsp;&nbsp;&nbsp;...  \n",
    "&nbsp;&nbsp;&nbsp;&nbsp;[return 함수를 실행한 결과 값] # 함수를 실행한 결과가 없다면 return을 생략할 수 있다."
   ]
  },
  {
   "cell_type": "markdown",
   "id": "incomplete-worcester",
   "metadata": {},
   "source": [
    "함수의 실행 순서  \n",
    "프로그램에서 함수가 호출되면 호출된 함수로 제어가 넘어간다. => 복귀 주소는 스택에 저장된다.  \n",
    "호출된 함수에서 정의한 기능을 끝까지 모두 실행하거나 return을 만나면 함수가 종료되고 함수를 호출한 문장으로 돌아간다.  \n",
    "return 뒤에 값이 있으면 값을 가지고 돌아가고 return 뒤에 값이 없거나 return 자체가 없으면 None을 가지고 돌아간다."
   ]
  },
  {
   "cell_type": "code",
   "execution_count": 13,
   "id": "incorporated-contribution",
   "metadata": {},
   "outputs": [],
   "source": [
    "# 가장 일반적인 함수의 모양\n",
    "# 함수는 정의 단계에서는 실행되지 않고 호출을 해야만 실행된다.\n",
    "# a, b 2개의 데이터를 인수로 넘겨받아 덧셈을 실행한 후 결과를 return 하는 함수\n",
    "def add(a, b):\n",
    "    print('add(a, b) 함수가 실행됩니다.')\n",
    "    result = a + b\n",
    "    a = 999 # 가인수 값을 변경한다.\n",
    "    print('가인수 a : {}'.format(a))\n",
    "    return result\n",
    "# ===== 함수 정의 끝"
   ]
  },
  {
   "cell_type": "markdown",
   "id": "restricted-savannah",
   "metadata": {},
   "source": [
    "실인수와 가인수의 이름은 반드시 같아야 할 필요는 없지만 인수의 개수는 반드시 같아야 한다.  \n",
    "예외적으로 디폴트 인수를 사용하면 인수의 개수가 달라도 함수가 정상적으로 실행된다.  \n",
    "실인수와 가인수는 서로 독립된 메모리를 사용하기 때문에 가인수의 값이 변경되더라도 실인수의 값은 변경되지 않는다.  "
   ]
  },
  {
   "cell_type": "code",
   "execution_count": 14,
   "id": "capable-assist",
   "metadata": {},
   "outputs": [
    {
     "name": "stdout",
     "output_type": "stream",
     "text": [
      "정수 2개를 입력하세요 : 1 2\n",
      "add(a, b) 함수가 실행됩니다.\n",
      "가인수 a : 999\n",
      "실인수 a : 1\n",
      "3\n"
     ]
    }
   ],
   "source": [
    "a, b = map(int, input('정수 2개를 입력하세요 : ').split())\n",
    "result = add(a, b) # 함수 호출\n",
    "print('실인수 a : {}'.format(a))\n",
    "print(result)"
   ]
  },
  {
   "cell_type": "code",
   "execution_count": null,
   "id": "manufactured-adaptation",
   "metadata": {},
   "outputs": [],
   "source": []
  },
  {
   "cell_type": "code",
   "execution_count": null,
   "id": "electoral-skating",
   "metadata": {},
   "outputs": [],
   "source": []
  },
  {
   "cell_type": "code",
   "execution_count": null,
   "id": "entire-grave",
   "metadata": {},
   "outputs": [],
   "source": []
  },
  {
   "cell_type": "code",
   "execution_count": null,
   "id": "standing-gamma",
   "metadata": {},
   "outputs": [],
   "source": []
  },
  {
   "cell_type": "code",
   "execution_count": null,
   "id": "settled-nomination",
   "metadata": {},
   "outputs": [],
   "source": []
  },
  {
   "cell_type": "code",
   "execution_count": null,
   "id": "steady-round",
   "metadata": {},
   "outputs": [],
   "source": []
  },
  {
   "cell_type": "code",
   "execution_count": null,
   "id": "composed-watch",
   "metadata": {},
   "outputs": [],
   "source": []
  },
  {
   "cell_type": "code",
   "execution_count": null,
   "id": "tested-tongue",
   "metadata": {},
   "outputs": [],
   "source": []
  }
 ],
 "metadata": {
  "kernelspec": {
   "display_name": "Python 3",
   "language": "python",
   "name": "python3"
  },
  "language_info": {
   "codemirror_mode": {
    "name": "ipython",
    "version": 3
   },
   "file_extension": ".py",
   "mimetype": "text/x-python",
   "name": "python",
   "nbconvert_exporter": "python",
   "pygments_lexer": "ipython3",
   "version": "3.6.8"
  }
 },
 "nbformat": 4,
 "nbformat_minor": 5
}
