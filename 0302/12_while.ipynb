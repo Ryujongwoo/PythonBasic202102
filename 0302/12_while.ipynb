{
 "cells": [
  {
   "cell_type": "markdown",
   "id": "sustainable-cooling",
   "metadata": {},
   "source": [
    "while은 조건이 참인 동안 반복하다가 조건이 거짓이 되는 순간 반복이 종료된다.  \n",
    "while로 진입하는 최초 조건이 거짓일 경우 한 번도 반복을 실행하지 않는다.  \n",
    "for는 반복을 몇 번 해야하는지 아는 경우 사용하고 while은 반복을 하기는 해야겠는데 몇 번 해야하는지 정확히 모를 경우 사용한다."
   ]
  },
  {
   "cell_type": "markdown",
   "id": "opened-greensboro",
   "metadata": {},
   "source": [
    "while 조건식:  \n",
    "&nbsp;&nbsp;&nbsp;&nbsp;조건식이 참일 경우 실행할 문장  \n",
    "&nbsp;&nbsp;&nbsp;&nbsp;..."
   ]
  },
  {
   "cell_type": "code",
   "execution_count": 5,
   "id": "automated-silver",
   "metadata": {},
   "outputs": [
    {
     "name": "stdout",
     "output_type": "stream",
     "text": [
      "1 ~ 10의 합계 : 55\n",
      "1 ~ 10의 합계 : 55\n"
     ]
    }
   ],
   "source": [
    "# 1 ~ 10의 합계\n",
    "total = 0\n",
    "for i in range(1, 11):\n",
    "    total += i\n",
    "print('1 ~ 10의 합계 : {}'.format(total))\n",
    "\n",
    "i = 0\n",
    "total = 0\n",
    "while i < 10:\n",
    "    i += 1\n",
    "    total += i\n",
    "print('1 ~ 10의 합계 : {}'.format(total))"
   ]
  },
  {
   "cell_type": "code",
   "execution_count": 26,
   "id": "functional-rebel",
   "metadata": {},
   "outputs": [
    {
     "name": "stdout",
     "output_type": "stream",
     "text": [
      "========================================\n",
      " 1.입력  2.보기  3.수정  4.삭제  5.종료 \n",
      "========================================\n",
      "원하는 메뉴를 입력하고 엔터키를 누르세요 : 1\n",
      "입력 작업 실행\n",
      "========================================\n",
      " 1.입력  2.보기  3.수정  4.삭제  5.종료 \n",
      "========================================\n",
      "원하는 메뉴를 입력하고 엔터키를 누르세요 : 1\n",
      "입력 작업 실행\n",
      "========================================\n",
      " 1.입력  2.보기  3.수정  4.삭제  5.종료 \n",
      "========================================\n",
      "원하는 메뉴를 입력하고 엔터키를 누르세요 : 1\n",
      "입력 작업 실행\n",
      "========================================\n",
      " 1.입력  2.보기  3.수정  4.삭제  5.종료 \n",
      "========================================\n",
      "원하는 메뉴를 입력하고 엔터키를 누르세요 : 5\n",
      "프로그램을 종료합니다. 바이바이~~~~~\n"
     ]
    }
   ],
   "source": [
    "# while 명령의 조건식이 항상 참이면 무한 루프가 된다.\n",
    "# 사용자가 의도적으로 무한 루프를 발생시켰다면 반드시 무한 루프 종료 처리를 해야한다. => 반복 탈출 시 break 명령을 사용한다.\n",
    "# break 명령은 for와 while 같은 반복문의 실행을 중지시킨다.\n",
    "# break 명령은 break 명령 다음 문장들을 실행하지 않고 반복을 종료하고 continue 명령은 continue 명령 다음 문장들을 실행하지\n",
    "# 않고 다시 반복을 수행한다. \n",
    "\n",
    "menu = 0\n",
    "while menu != 5:\n",
    "    while True:\n",
    "        print('=' * 40)\n",
    "        print(' 1.입력  2.보기  3.수정  4.삭제  5.종료 ')\n",
    "        print('=' * 40)\n",
    "        menu = int(input('원하는 메뉴를 입력하고 엔터키를 누르세요 : '))\n",
    "        # if 1 <= menu <= 5:\n",
    "        if menu >= 1 and menu <= 5:\n",
    "        # if menu in [1, 2, 3, 4, 5]:\n",
    "        # if menu in [i for i in range(1, 6)]:\n",
    "        # if menu in list(range(1, 6)):\n",
    "        # if menu in range(1, 6):\n",
    "            break\n",
    "        else:\n",
    "            print('메뉴는 1 ~ 5 사이의 값만 입력해야 합니다.')\n",
    "    # ===== while True 끝\n",
    "\n",
    "    # 여기까지 왔다면 메뉴에는 1 ~ 5 사이의 정수가 입력되었다는 의미이다.\n",
    "    if menu == 1:\n",
    "        print('입력 작업 실행')\n",
    "    elif menu == 2:\n",
    "        print('보기 작업 실행')\n",
    "    elif menu == 3:\n",
    "        print('수정 작업 실행')\n",
    "    elif menu == 4:\n",
    "        print('삭제 작업 실행')\n",
    "# ===== while != 0 끝\n",
    "print('프로그램을 종료합니다. 바이바이~~~~~')"
   ]
  },
  {
   "cell_type": "markdown",
   "id": "infrared-machinery",
   "metadata": {},
   "source": [
    "로또 1등 번호 만들기"
   ]
  },
  {
   "cell_type": "code",
   "execution_count": 37,
   "id": "vital-niagara",
   "metadata": {},
   "outputs": [
    {
     "name": "stdout",
     "output_type": "stream",
     "text": [
      "36\n",
      "16\n",
      "33\n",
      "20\n",
      "18\n",
      "40\n"
     ]
    }
   ],
   "source": [
    "import random\n",
    "for i in range(6):\n",
    "    print(random.randrange(1, 46))"
   ]
  },
  {
   "cell_type": "code",
   "execution_count": 97,
   "id": "knowing-notebook",
   "metadata": {},
   "outputs": [
    {
     "name": "stdout",
     "output_type": "stream",
     "text": [
      "23 {23}\n",
      "36 {36, 23}\n",
      "19 {19, 36, 23}\n",
      "33 {33, 19, 36, 23}\n",
      "23 {33, 19, 36, 23}\n",
      " 9 {33, 36, 9, 19, 23}\n",
      "21 {33, 36, 9, 19, 21, 23}\n",
      "1등 번호 : {33, 36, 9, 19, 21, 23}\n",
      "19 \n",
      "36 \n",
      "29 \n",
      "보너스 번호 : 29\n"
     ]
    }
   ],
   "source": [
    "import random\n",
    "lotto = set() # 로또 1등 번호를 기억할 빈 set을 만든다.\n",
    "# 1등 번호\n",
    "while True:\n",
    "    lottoNumber = random.randrange(1, 46)\n",
    "    print('{0:2d} '.format(lottoNumber), end = '')\n",
    "    lotto.add(lottoNumber)\n",
    "    print(lotto)\n",
    "    if len(lotto) == 6:\n",
    "        break\n",
    "print('1등 번호 : {}'.format(lotto))\n",
    "\n",
    "# 보너스 번호\n",
    "while True:\n",
    "    bonus = random.randrange(1, 46)\n",
    "    print('{0:2d} '.format(bonus))\n",
    "    if bonus not in lotto:\n",
    "        break\n",
    "print('보너스 번호 : {}'.format(bonus))"
   ]
  },
  {
   "cell_type": "code",
   "execution_count": 105,
   "id": "closed-context",
   "metadata": {},
   "outputs": [
    {
     "name": "stdout",
     "output_type": "stream",
     "text": [
      "67 {67}\n",
      "69 {67, 69}\n",
      "69 {67, 69}\n",
      "69 {67, 69}\n",
      "30 {67, 69, 30}\n",
      "30 {67, 69, 30}\n",
      "11 {11, 67, 69, 30}\n",
      "31 {67, 69, 11, 30, 31}\n",
      "흰공 : {67, 69, 11, 30, 31}\n",
      "빨강공 : 26\n"
     ]
    }
   ],
   "source": [
    "# 미국 로또(파워볼)는 흰공(1 ~ 69)에서 5개, 빨강공(1 ~ 26)에서 1개\n",
    "import random\n",
    "powerball = set() # 로또 1등 번호를 기억할 빈 set을 만든다.\n",
    "# 흰공\n",
    "while True:\n",
    "    powerballNumber = random.randrange(1, 70)\n",
    "    print('{0:2d} '.format(powerballNumber), end = '')\n",
    "    powerball.add(powerballNumber)\n",
    "    print(powerball)\n",
    "    if len(powerball) == 5:\n",
    "        break\n",
    "print('흰공 : {}'.format(powerball))\n",
    "# 빨강공\n",
    "print('빨강공 : {}'.format(random.randrange(1, 27)))"
   ]
  },
  {
   "cell_type": "code",
   "execution_count": null,
   "id": "cross-external",
   "metadata": {},
   "outputs": [],
   "source": []
  },
  {
   "cell_type": "code",
   "execution_count": null,
   "id": "constitutional-newspaper",
   "metadata": {},
   "outputs": [],
   "source": []
  },
  {
   "cell_type": "code",
   "execution_count": null,
   "id": "right-aside",
   "metadata": {},
   "outputs": [],
   "source": []
  },
  {
   "cell_type": "code",
   "execution_count": null,
   "id": "abroad-disco",
   "metadata": {},
   "outputs": [],
   "source": []
  },
  {
   "cell_type": "code",
   "execution_count": null,
   "id": "thermal-monroe",
   "metadata": {},
   "outputs": [],
   "source": []
  },
  {
   "cell_type": "code",
   "execution_count": null,
   "id": "together-connectivity",
   "metadata": {},
   "outputs": [],
   "source": []
  },
  {
   "cell_type": "code",
   "execution_count": null,
   "id": "russian-daisy",
   "metadata": {},
   "outputs": [],
   "source": []
  },
  {
   "cell_type": "code",
   "execution_count": null,
   "id": "distant-translation",
   "metadata": {},
   "outputs": [],
   "source": []
  },
  {
   "cell_type": "code",
   "execution_count": null,
   "id": "civic-habitat",
   "metadata": {},
   "outputs": [],
   "source": []
  }
 ],
 "metadata": {
  "kernelspec": {
   "display_name": "Python 3",
   "language": "python",
   "name": "python3"
  },
  "language_info": {
   "codemirror_mode": {
    "name": "ipython",
    "version": 3
   },
   "file_extension": ".py",
   "mimetype": "text/x-python",
   "name": "python",
   "nbconvert_exporter": "python",
   "pygments_lexer": "ipython3",
   "version": "3.6.8"
  }
 },
 "nbformat": 4,
 "nbformat_minor": 5
}
