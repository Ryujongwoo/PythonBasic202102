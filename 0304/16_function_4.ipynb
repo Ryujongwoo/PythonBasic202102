{
 "cells": [
  {
   "cell_type": "code",
   "execution_count": 4,
   "id": "interpreted-homework",
   "metadata": {},
   "outputs": [],
   "source": [
    "# 디폴트 인수를 사용하는 함수 => 형식 : 변수이름 = 디폴트 값\n",
    "# 함수가 호출될 때 인수가 넘어오면 넘어온 데이터로 함수를 실행하고 데이터가 넘어오지 않으면 디폴트로 지정된 데이터로 함수를\n",
    "# 실행한다.\n",
    "def func4(n = 100):\n",
    "    total = 0\n",
    "    for i in range(1, n + 1):\n",
    "        total += i\n",
    "    return total"
   ]
  },
  {
   "cell_type": "code",
   "execution_count": 5,
   "id": "consolidated-inspiration",
   "metadata": {},
   "outputs": [
    {
     "name": "stdout",
     "output_type": "stream",
     "text": [
      "55\n"
     ]
    }
   ],
   "source": [
    "print(func4(10))"
   ]
  },
  {
   "cell_type": "code",
   "execution_count": 6,
   "id": "driving-capture",
   "metadata": {},
   "outputs": [
    {
     "name": "stdout",
     "output_type": "stream",
     "text": [
      "5050\n"
     ]
    }
   ],
   "source": [
    "print(func4())"
   ]
  },
  {
   "cell_type": "code",
   "execution_count": 7,
   "id": "unlikely-bubble",
   "metadata": {},
   "outputs": [
    {
     "ename": "SyntaxError",
     "evalue": "non-default argument follows default argument (<ipython-input-7-6734d1c24cec>, line 1)",
     "output_type": "error",
     "traceback": [
      "\u001b[1;36m  File \u001b[1;32m\"<ipython-input-7-6734d1c24cec>\"\u001b[1;36m, line \u001b[1;32m1\u001b[0m\n\u001b[1;33m    def func5(a = 5, b):\u001b[0m\n\u001b[1;37m             ^\u001b[0m\n\u001b[1;31mSyntaxError\u001b[0m\u001b[1;31m:\u001b[0m non-default argument follows default argument\n"
     ]
    }
   ],
   "source": [
    "# 디폴트 인수는 부분적으로 지정할 수 없으므로 아래와 같이 함수를 선언하면 에러가 발생된다.\n",
    "def func5(a = 5, b):\n",
    "    print('{} + {} = {}'.format(a, b, a + b))"
   ]
  },
  {
   "cell_type": "code",
   "execution_count": 9,
   "id": "quarterly-contest",
   "metadata": {},
   "outputs": [],
   "source": [
    "def func5(a = 5, b = 8):\n",
    "    print('{} + {} = {}'.format(a, b, a + b))"
   ]
  },
  {
   "cell_type": "code",
   "execution_count": 10,
   "id": "usual-depth",
   "metadata": {},
   "outputs": [
    {
     "name": "stdout",
     "output_type": "stream",
     "text": [
      "5 + 8 = 13\n"
     ]
    }
   ],
   "source": [
    "func5()"
   ]
  },
  {
   "cell_type": "code",
   "execution_count": 12,
   "id": "asian-playing",
   "metadata": {},
   "outputs": [
    {
     "name": "stdout",
     "output_type": "stream",
     "text": [
      "6 + 8 = 14\n"
     ]
    }
   ],
   "source": [
    "func5(6) # func5(a = 6)와 같은 표현이다."
   ]
  },
  {
   "cell_type": "code",
   "execution_count": 13,
   "id": "historic-monroe",
   "metadata": {},
   "outputs": [
    {
     "name": "stdout",
     "output_type": "stream",
     "text": [
      "7 + 4 = 11\n"
     ]
    }
   ],
   "source": [
    "func5(7, 4)"
   ]
  },
  {
   "cell_type": "code",
   "execution_count": 15,
   "id": "opposite-gateway",
   "metadata": {},
   "outputs": [
    {
     "name": "stdout",
     "output_type": "stream",
     "text": [
      "5 + 10 = 15\n"
     ]
    }
   ],
   "source": [
    "func5(b = 10) # b에만 데이터를 넘겨주고 a는 디폴트 인수를 사용해서 함수가 실행된다."
   ]
  },
  {
   "cell_type": "code",
   "execution_count": null,
   "id": "nearby-jungle",
   "metadata": {},
   "outputs": [],
   "source": []
  },
  {
   "cell_type": "code",
   "execution_count": null,
   "id": "dressed-mexican",
   "metadata": {},
   "outputs": [],
   "source": []
  },
  {
   "cell_type": "code",
   "execution_count": null,
   "id": "transparent-jumping",
   "metadata": {},
   "outputs": [],
   "source": []
  }
 ],
 "metadata": {
  "kernelspec": {
   "display_name": "Python 3",
   "language": "python",
   "name": "python3"
  },
  "language_info": {
   "codemirror_mode": {
    "name": "ipython",
    "version": 3
   },
   "file_extension": ".py",
   "mimetype": "text/x-python",
   "name": "python",
   "nbconvert_exporter": "python",
   "pygments_lexer": "ipython3",
   "version": "3.6.8"
  }
 },
 "nbformat": 4,
 "nbformat_minor": 5
}
